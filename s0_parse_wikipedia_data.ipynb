{
 "metadata": {
  "language_info": {
   "codemirror_mode": {
    "name": "ipython",
    "version": 3
   },
   "file_extension": ".py",
   "mimetype": "text/x-python",
   "name": "python",
   "nbconvert_exporter": "python",
   "pygments_lexer": "ipython3",
   "version": "3.8.6"
  },
  "orig_nbformat": 2,
  "kernelspec": {
   "name": "python386jvsc74a57bd031f2aee4e71d21fbe5cf8b01ff0e069b9275f58929596ceb00d14d90e3e16cd6",
   "display_name": "Python 3.8.6 64-bit"
  },
  "metadata": {
   "interpreter": {
    "hash": "31f2aee4e71d21fbe5cf8b01ff0e069b9275f58929596ceb00d14d90e3e16cd6"
   }
  }
 },
 "nbformat": 4,
 "nbformat_minor": 2,
 "cells": [
  {
   "cell_type": "code",
   "execution_count": 2,
   "metadata": {},
   "outputs": [],
   "source": [
    "import pandas as pd \n",
    "import wikipedia\n",
    "import os,re"
   ]
  },
  {
   "source": [
    "** Step 1: Parsing Wikipedia Byelection Data**\n",
    "\n",
    "This notebook first parses (by)election data from Wikipedia to a set of ```.csv``` files. "
   ],
   "cell_type": "markdown",
   "metadata": {}
  },
  {
   "cell_type": "code",
   "execution_count": 6,
   "metadata": {},
   "outputs": [],
   "source": [
    "urls = [f\"https://en.wikipedia.org/wiki/List_of_United_Kingdom_by-elections_(1918%E2%80%931931)\",f\"https://en.wikipedia.org/wiki/List_of_United_Kingdom_by-elections_(1931%E2%80%931950)\",f\"https://en.wikipedia.org/wiki/List_of_United_Kingdom_by-elections_(1950%E2%80%931979)\",f\"https://en.wikipedia.org/wiki/List_of_United_Kingdom_by-elections_(1979%E2%80%932010)\",f\"https://en.wikipedia.org/wiki/List_of_United_Kingdom_by-elections_(2010%E2%80%93present)\"]"
   ]
  },
  {
   "cell_type": "code",
   "execution_count": 7,
   "metadata": {},
   "outputs": [],
   "source": [
    "def transform(url):\n",
    "    df = pd.read_html(url)[0]\n",
    "    df = df[[c for c in df.columns if len([x for x in df[c] if str(x) != \"nan\"]) == len(df)]]\n",
    "    for c in df.columns:\n",
    "        df[c] = [re.sub('\\[[^>]+\\]', '', x) for x in df[c]]\n",
    "    return df"
   ]
  },
  {
   "cell_type": "code",
   "execution_count": 16,
   "metadata": {},
   "outputs": [],
   "source": [
    "# Parse and write data. Use years in URLs for file names (I changed the last one to \"2010-2020\" manually)\n",
    "for u in urls:\n",
    "    start_year = u.split('(')[1][:4]\n",
    "    end_year =  u.split(')')[0][-4:]\n",
    "    fname = f\"byelection-{start_year}-{end_year}.tsv\"\n",
    "    print(fname)\n",
    "    d = transform(u)\n",
    "    d.to_csv(f'/media/ruben/Elements/PhD/data/hansard/resources/wikipedia-election-results/{fname}',sep='\\t')"
   ]
  },
  {
   "source": [
    "** Step 2: Parsing Wikipedia Election Data **\n",
    "\n",
    "After the byelections, do the same for the regular elections. Note that in 1974 two general elections were held."
   ],
   "cell_type": "markdown",
   "metadata": {}
  },
  {
   "cell_type": "code",
   "execution_count": 4,
   "metadata": {},
   "outputs": [],
   "source": [
    "list_years = [1918,1922,1923,1924,1929,1931,1935,1945,1950,1951,1955,1959,1964,1966,\"February_1974\",\"October_1974\",1979,1983,1987,1992,1997,2001,2005,2010,2015,2017,2019]\n",
    "\n",
    "def parse_members(year):\n",
    "    candidates = wikipedia.search(f'List of MPs elected in the {year} United Kingdom general election')\n",
    "    url = f\"https://en.wikipedia.org/wiki/{candidates[0].replace(' ','_')}\"\n",
    "    res = pd.read_html(url)\n",
    "    df = [d for d in res if len(d.iloc[:,0]) >= 350][0]\n",
    "    df = df[~df[list(df.columns)[0]].astype(str).str.contains('\\[')]\n",
    "    if str(list(df.columns)[0]) == \"0\":\n",
    "        df.columns = df.iloc[0]\n",
    "        df = df.drop(df.index[0]).reset_index(drop=True)\n",
    "\n",
    "    for c in df.columns:\n",
    "        df[c] = [re.sub('\\[[^>]+\\]', '', str(x)) for x in df[c]]\n",
    "        #df[c] = [re.sub('\\([^>]+\\)', '', str(x)) for x in df[c]]\n",
    "        df[c] = [x.replace('Co. ','Coalition ') for x in df[c]]\n",
    "    #df = df[[c for c in df.columns if len([x for x in df[c] if str(x) != \"nan\"]) == len(df)]]\n",
    "    df.columns = [x.split('.')[0] if '.' in x else x for x in df.columns]\n",
    "    \n",
    "    if len(df.columns) == 3 and int(str(year)[-4:]) <= 2001:\n",
    "        df.columns = [\"constituency\",\"name\",\"party\"]\n",
    "\n",
    "    if int(str(year)[-4:]) >= 2001 and int(str(year)[-4:]) < 2010:\n",
    "        df = df.iloc[:,:3]\n",
    "        df.columns = [\"constituency\",\"name\",\"party\"]\n",
    "    \n",
    "    if int(str(year)[-4:]) >= 2010:\n",
    "        #df = df[[c for c in df.columns if len([x for x in df[c] if str(x) != \"nan\"]) == len(df)]]\n",
    "        return df\n",
    "    return df"
   ]
  },
  {
   "cell_type": "code",
   "execution_count": 170,
   "metadata": {},
   "outputs": [],
   "source": [
    "#Again, manual checking. Turns out that dfs > 2010 do not have a party column, but (party abbreviations) following the members. Discarding them as this step is only required for period 1918-2010\n",
    "\n",
    "for x in list_years:\n",
    "    d = parse_members(x)\n",
    "    #d.to_csv(f'/media/ruben/Elements/PhD/data/hansard/resources/wikipedia-election-results/election-{str(x).replace(\" \",\"_\").lower()}.tsv',sep='\\t',index=False)"
   ]
  }
 ]
}