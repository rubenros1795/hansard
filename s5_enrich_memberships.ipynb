{
 "metadata": {
  "language_info": {
   "codemirror_mode": {
    "name": "ipython",
    "version": 3
   },
   "file_extension": ".py",
   "mimetype": "text/x-python",
   "name": "python",
   "nbconvert_exporter": "python",
   "pygments_lexer": "ipython3",
   "version": "3.8.6"
  },
  "orig_nbformat": 2,
  "kernelspec": {
   "name": "python3",
   "display_name": "Python 3",
   "language": "python"
  }
 },
 "nbformat": 4,
 "nbformat_minor": 2,
 "cells": [
  {
   "cell_type": "code",
   "execution_count": 3,
   "metadata": {},
   "outputs": [],
   "source": [
    "import pandas as pd\n",
    "from glob import glob as gb\n",
    "import os\n",
    "from fuzzywuzzy import fuzz\n",
    "import wikipedia\n",
    "from tqdm import tqdm\n",
    "import requests\n",
    "from bs4 import BeautifulSoup as bs\n",
    "from fuzzywuzzy import process\n",
    "import itertools\n",
    "from fuzzywuzzy import fuzz\n",
    "from collections import Counter\n",
    "import random  \n",
    "from datetime import datetime\n",
    "import json \n",
    "import time\n",
    "from dateutil.relativedelta import relativedelta\n",
    "\n",
    "DATAPATH = \"/media/ruben/Elements/PhD/data/hansard\"\n",
    "list_wikidata = [x for x in gb(DATAPATH + '/resources/wikidata-members/reformatted/*') if \"-Q\" in x]\n",
    "dfm = pd.read_csv(DATAPATH + '/raw/pm/members_flattened.csv',sep='\\t')\n",
    "dfm = dfm.replace('9999-01-01',\"na\")\n",
    "dfm['start'] = [\"2030-01-01\" if x == \"9999-12-31\" else x for x in dfm['start']]\n",
    "dfm['end'] = [\"2030-01-01\" if x == \"9999-12-31\" else x for x in dfm['end']]\n",
    "dfm['start'] = [datetime.strptime(x,'%Y-%m-%d') if x != \"na\" else \"na\" for x in dfm['start']]\n",
    "dfm['end'] = [datetime.strptime(x,'%Y-%m-%d') if x != \"na\" else \"na\" for x in dfm['end']]\n",
    "\n",
    "wikidata = pd.DataFrame()\n",
    "for wikidata_ in list_wikidata:\n",
    "    df_wkd = pd.read_csv(wikidata_,sep='\\t')\n",
    "    wikidata = wikidata.append(df_wkd)\n",
    "\n",
    "wikidata['start'] = pd.to_datetime(wikidata['start'], format='%Y-%m-%d')\n",
    "wikidata['end'] = pd.to_datetime(wikidata['end'], format='%Y-%m-%d')"
   ]
  },
  {
   "cell_type": "code",
   "execution_count": 4,
   "metadata": {},
   "outputs": [
    {
     "output_type": "stream",
     "name": "stderr",
     "text": [
      "48451it [01:08, 707.28it/s]\n"
     ]
    }
   ],
   "source": [
    "missing_district = []\n",
    "for c,membership in tqdm(dfm.iterrows()):\n",
    "\n",
    "    # Check if party name is known. If so, continue. Everything is wonderful as it is.\n",
    "    if membership['party_name'] != \"na\" or str(membership['start']) == \"na\":\n",
    "        continue \n",
    "\n",
    "    if int(str(membership['start'])[:4]) <= 1917: #or int(str(membership['start'])[:4]) > 1936:\n",
    "        continue \n",
    "\n",
    "    if membership['district'] not in set(wikidata['constituency']):\n",
    "        missing_district.append(membership['district'])"
   ]
  },
  {
   "cell_type": "code",
   "execution_count": 5,
   "metadata": {},
   "outputs": [],
   "source": [
    "mss = set(missing_district)\n",
    "mss = {k:k.replace('','') for k in mss if k != \"na\"}\n",
    "mss = {k:v.replace('County','') for k,v in mss.items()}\n",
    "mss = {k:v.replace('county','') for k,v in mss.items()}\n",
    "mss = {k:v.replace('the','') for k,v in mss.items()}\n",
    "mss = {k:v.replace('of','') for k,v in mss.items()}\n",
    "mss = {k:v.replace('city','') for k,v in mss.items()}\n",
    "mss = {k:v.replace('City','') for k,v in mss.items()}\n",
    "\n",
    "wks = set(wikidata.constituency)"
   ]
  },
  {
   "cell_type": "code",
   "execution_count": 7,
   "metadata": {},
   "outputs": [],
   "source": [
    "matches = [[k,process.extract(v,wks,limit=2)] for k,v in mss.items()]\n",
    "matchdf = pd.DataFrame([[x[0],x[1][0][0],x[1][0][1],x[1][1][0],x[1][1][1]] for x in matches],columns=['mbs','wkd1','s1','wkd2','s2'])\n",
    "matchdf.sort_values('s1').reset_index(drop=True).to_csv(DATAPATH + \"/resources/wikidata-membership-constituency-table.csv\",index=False)"
   ]
  },
  {
   "cell_type": "code",
   "execution_count": 8,
   "metadata": {},
   "outputs": [
    {
     "output_type": "execute_result",
     "data": {
      "text/plain": [
       "                               mbs                   wkd1   s1  \\\n",
       "0              Southampton, Itchen     Southampton Itchen   97   \n",
       "1                      Kerry North            North Kerry   95   \n",
       "2            Norfolk South Western  Norfolk North Western   90   \n",
       "3                   Kilkenny South         South Kilkenny   95   \n",
       "4               the City of London         City of London   90   \n",
       "..                             ...                    ...  ...   \n",
       "374            Haringey Wood Green             Wood Green   90   \n",
       "375                      Fife East              East Fife   95   \n",
       "376  the County of South Yorkshire         South Ayrshire   90   \n",
       "377   the London Borough of Newham         Galway Borough   86   \n",
       "378            the County of Conwy                  Conwy  100   \n",
       "\n",
       "                             wkd2  s2  \n",
       "0                     Southampton  90  \n",
       "1                           Kerry  90  \n",
       "2              South West Norfolk  87  \n",
       "3    Hackney South and Shoreditch  86  \n",
       "4              Londonderry County  90  \n",
       "..                            ...  ..  \n",
       "374        Hornsey and Wood Green  78  \n",
       "375                          Fife  90  \n",
       "376  Hackney South and Shoreditch  86  \n",
       "377                City of London  86  \n",
       "378                     Aberconwy  90  \n",
       "\n",
       "[379 rows x 5 columns]"
      ],
      "text/html": "<div>\n<style scoped>\n    .dataframe tbody tr th:only-of-type {\n        vertical-align: middle;\n    }\n\n    .dataframe tbody tr th {\n        vertical-align: top;\n    }\n\n    .dataframe thead th {\n        text-align: right;\n    }\n</style>\n<table border=\"1\" class=\"dataframe\">\n  <thead>\n    <tr style=\"text-align: right;\">\n      <th></th>\n      <th>mbs</th>\n      <th>wkd1</th>\n      <th>s1</th>\n      <th>wkd2</th>\n      <th>s2</th>\n    </tr>\n  </thead>\n  <tbody>\n    <tr>\n      <th>0</th>\n      <td>Southampton, Itchen</td>\n      <td>Southampton Itchen</td>\n      <td>97</td>\n      <td>Southampton</td>\n      <td>90</td>\n    </tr>\n    <tr>\n      <th>1</th>\n      <td>Kerry North</td>\n      <td>North Kerry</td>\n      <td>95</td>\n      <td>Kerry</td>\n      <td>90</td>\n    </tr>\n    <tr>\n      <th>2</th>\n      <td>Norfolk South Western</td>\n      <td>Norfolk North Western</td>\n      <td>90</td>\n      <td>South West Norfolk</td>\n      <td>87</td>\n    </tr>\n    <tr>\n      <th>3</th>\n      <td>Kilkenny South</td>\n      <td>South Kilkenny</td>\n      <td>95</td>\n      <td>Hackney South and Shoreditch</td>\n      <td>86</td>\n    </tr>\n    <tr>\n      <th>4</th>\n      <td>the City of London</td>\n      <td>City of London</td>\n      <td>90</td>\n      <td>Londonderry County</td>\n      <td>90</td>\n    </tr>\n    <tr>\n      <th>...</th>\n      <td>...</td>\n      <td>...</td>\n      <td>...</td>\n      <td>...</td>\n      <td>...</td>\n    </tr>\n    <tr>\n      <th>374</th>\n      <td>Haringey Wood Green</td>\n      <td>Wood Green</td>\n      <td>90</td>\n      <td>Hornsey and Wood Green</td>\n      <td>78</td>\n    </tr>\n    <tr>\n      <th>375</th>\n      <td>Fife East</td>\n      <td>East Fife</td>\n      <td>95</td>\n      <td>Fife</td>\n      <td>90</td>\n    </tr>\n    <tr>\n      <th>376</th>\n      <td>the County of South Yorkshire</td>\n      <td>South Ayrshire</td>\n      <td>90</td>\n      <td>Hackney South and Shoreditch</td>\n      <td>86</td>\n    </tr>\n    <tr>\n      <th>377</th>\n      <td>the London Borough of Newham</td>\n      <td>Galway Borough</td>\n      <td>86</td>\n      <td>City of London</td>\n      <td>86</td>\n    </tr>\n    <tr>\n      <th>378</th>\n      <td>the County of Conwy</td>\n      <td>Conwy</td>\n      <td>100</td>\n      <td>Aberconwy</td>\n      <td>90</td>\n    </tr>\n  </tbody>\n</table>\n<p>379 rows × 5 columns</p>\n</div>"
     },
     "metadata": {},
     "execution_count": 8
    }
   ],
   "source": [
    "matchdf"
   ]
  },
  {
   "cell_type": "code",
   "execution_count": null,
   "metadata": {},
   "outputs": [],
   "source": []
  }
 ]
}