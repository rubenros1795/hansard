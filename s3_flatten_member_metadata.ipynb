{
 "metadata": {
  "language_info": {
   "codemirror_mode": {
    "name": "ipython",
    "version": 3
   },
   "file_extension": ".py",
   "mimetype": "text/x-python",
   "name": "python",
   "nbconvert_exporter": "python",
   "pygments_lexer": "ipython3",
   "version": "3.8.6"
  },
  "orig_nbformat": 2,
  "kernelspec": {
   "name": "python3",
   "display_name": "Python 3",
   "language": "python"
  }
 },
 "nbformat": 4,
 "nbformat_minor": 2,
 "cells": [
  {
   "cell_type": "code",
   "execution_count": 1,
   "metadata": {},
   "outputs": [],
   "source": [
    "import pandas as pd\n",
    "from glob import glob as gb\n",
    "import os\n",
    "from fuzzywuzzy import fuzz\n",
    "import wikipedia\n",
    "from tqdm import tqdm\n",
    "import requests\n",
    "from bs4 import BeautifulSoup as bs\n",
    "from fuzzywuzzy import process\n",
    "import itertools\n",
    "from fuzzywuzzy import fuzz\n",
    "from collections import Counter\n",
    "import random  \n",
    "from datetime import datetime\n",
    "import json \n",
    "import time\n",
    "\n",
    "def rt(fn):\n",
    "    with open(fn,'r') as f:\n",
    "        c = f.read()\n",
    "    s = bs(c)\n",
    "    return s\n",
    "\n",
    "DATAPATH = \"/media/ruben/Elements/PhD/data/hansard\"\n",
    "list_files = gb(DATAPATH + '/raw/pm/members/*')"
   ]
  },
  {
   "cell_type": "code",
   "execution_count": 2,
   "metadata": {},
   "outputs": [],
   "source": [
    "def find_name_full(soup):\n",
    "    names = soup.find_all('name')\n",
    "    names = [x for x in names if 'full' in [c.name for c in x.findChildren()]]\n",
    "    if len(names) >= 1:\n",
    "        return names[0]('full')[0].text\n",
    "    else:\n",
    "        return \"na\"\n",
    "\n",
    "def find_name_comp(soup):\n",
    "    names = soup.find_all('name')\n",
    "    names = [x for x in names if 'last' in [c.name for c in x.findChildren()]]\n",
    "    if len(names) >= 1:\n",
    "        return names[0]('first')[0].text + \" \" + names[0]('last')[0].text\n",
    "\n",
    "def clean_name(name):\n",
    "    if name == None:\n",
    "        return \"na\"\n",
    "    name = name.lower()\n",
    "    blacklist = \"lord viscount baroness baron the marquess lieut.-colonel lieutenant lieut colonel captain hon.\".split(' ')\n",
    "\n",
    "    for x in blacklist:\n",
    "        name = name.replace(x,'')\n",
    "    if name[0] == ' ':\n",
    "        name = name[1:]\n",
    "    return name"
   ]
  },
  {
   "cell_type": "code",
   "execution_count": 4,
   "metadata": {},
   "outputs": [
    {
     "output_type": "stream",
     "name": "stderr",
     "text": [
      "100%|██████████| 13167/13167 [00:54<00:00, 243.31it/s]\n"
     ]
    }
   ],
   "source": [
    "d = []\n",
    "\n",
    "for fn in tqdm(list_files):\n",
    "\n",
    "    soup = rt(fn).find('member')\n",
    "    member_id = soup.attrs['pm:id']\n",
    "\n",
    "    try:\n",
    "        full_name = find_name_full(soup)\n",
    "    except:\n",
    "        full_name = \"na\"\n",
    "\n",
    "    try:\n",
    "        comp_name = find_name_comp(soup)\n",
    "    except:\n",
    "        comp_name = \"na\"\n",
    "\n",
    "    for mbs in soup.find_all('membership'):\n",
    "\n",
    "        try:\n",
    "            name = mbs.find('name').text\n",
    "        except:\n",
    "            name = \"na\"\n",
    "\n",
    "        try:\n",
    "            start = mbs.find('period').attrs['pm:from']\n",
    "            end = mbs.find('period').attrs['pm:till']\n",
    "        except:\n",
    "            start = \"na\"\n",
    "            end = \"na\"\n",
    "\n",
    "        t = [member_id,full_name,clean_name(full_name), comp_name,clean_name(comp_name),name,clean_name(name), start, end]\n",
    "        for i in [\"pm:body\",\"pm:membership-id\",\"pm:district\",\"pm:party-name\"]:\n",
    "            try:\n",
    "                t.append(mbs.attrs[i])\n",
    "            except:\n",
    "                t.append(\"na\")\n",
    "        d.append(t)\n",
    "    "
   ]
  },
  {
   "cell_type": "code",
   "execution_count": 5,
   "metadata": {},
   "outputs": [],
   "source": [
    "df = pd.DataFrame(d,columns=\"id full_name full_name_cleaned comp_name comp_name_cleaned memb_name memb_name_clean start end body membership_id district party_name\".split(' ')).fillna(\"na\").replace(\"unknown\",\"na\")"
   ]
  },
  {
   "cell_type": "code",
   "execution_count": 10,
   "metadata": {},
   "outputs": [],
   "source": [
    "party_correction = {'Alliance':'Alliance Party of Northern Ireland',\n",
    " 'CWM':'CWM',\n",
    " 'Con':'Conservative Party',\n",
    " 'DCWM':'DCWM',\n",
    " 'DUP':'Democratic Unionist Party',\n",
    " 'Green':'Green Party of England and Wales',\n",
    " 'Ind':'Independent',\n",
    " 'Ind Con':'Independent Conservative',\n",
    " 'Ind Lab':'Independent Labour',\n",
    " 'Ind UU':'Independent',\n",
    " 'LDem':'Liberal Democrats',\n",
    " 'Lab':'Labour Party',\n",
    " 'Lab/Co-op':'Labour Co-operative',\n",
    " 'PC':'Plaid Cymru',\n",
    " 'Res':'Respect Party',\n",
    " 'SDLP':'Social Democratic and Labour Party',\n",
    " 'SF':'Sinn Féin',\n",
    " 'SNP':'Scottish National Party',\n",
    " 'SPK':'Speaker of the House of Commons',\n",
    " 'UKIP':'UK Independence Party',\n",
    " 'UKUP':'UK Unionist Party',\n",
    " 'UUP':'Ulster Unionist Party',\n",
    " 'na':'na'}"
   ]
  },
  {
   "cell_type": "code",
   "execution_count": 12,
   "metadata": {},
   "outputs": [],
   "source": [
    "df['party_name'] = [party_correction[c] for c in df['party_name']]"
   ]
  },
  {
   "cell_type": "code",
   "execution_count": 13,
   "metadata": {},
   "outputs": [],
   "source": [
    "df.to_csv(DATAPATH + '/raw/pm/members_flattened.csv',index=False,sep='\\t')"
   ]
  },
  {
   "cell_type": "code",
   "execution_count": null,
   "metadata": {},
   "outputs": [],
   "source": []
  }
 ]
}